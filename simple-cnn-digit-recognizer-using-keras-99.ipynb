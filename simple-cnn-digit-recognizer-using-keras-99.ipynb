{
 "cells": [
  {
   "cell_type": "markdown",
   "id": "wicked-serum",
   "metadata": {
    "papermill": {
     "duration": 0.022784,
     "end_time": "2021-05-16T12:12:13.863737",
     "exception": false,
     "start_time": "2021-05-16T12:12:13.840953",
     "status": "completed"
    },
    "tags": []
   },
   "source": [
    "# Import libraries"
   ]
  },
  {
   "cell_type": "code",
   "execution_count": 1,
   "id": "prospective-treasure",
   "metadata": {
    "execution": {
     "iopub.execute_input": "2021-05-16T12:12:13.913088Z",
     "iopub.status.busy": "2021-05-16T12:12:13.911380Z",
     "iopub.status.idle": "2021-05-16T12:12:20.159637Z",
     "shell.execute_reply": "2021-05-16T12:12:20.160147Z"
    },
    "papermill": {
     "duration": 6.274904,
     "end_time": "2021-05-16T12:12:20.160508",
     "exception": false,
     "start_time": "2021-05-16T12:12:13.885604",
     "status": "completed"
    },
    "tags": []
   },
   "outputs": [],
   "source": [
    "# Import libraries\n",
    "import numpy as np\n",
    "import pandas as pd\n",
    "import matplotlib.pyplot as plt\n",
    "import seaborn as sns\n",
    "from sklearn.model_selection import train_test_split\n",
    "from sklearn.metrics import confusion_matrix\n",
    "\n",
    "import tensorflow as tf"
   ]
  },
  {
   "cell_type": "code",
   "execution_count": 2,
   "id": "portable-elizabeth",
   "metadata": {
    "execution": {
     "iopub.execute_input": "2021-05-16T12:12:20.211853Z",
     "iopub.status.busy": "2021-05-16T12:12:20.210924Z",
     "iopub.status.idle": "2021-05-16T12:12:20.213333Z",
     "shell.execute_reply": "2021-05-16T12:12:20.213821Z"
    },
    "papermill": {
     "duration": 0.032065,
     "end_time": "2021-05-16T12:12:20.213986",
     "exception": false,
     "start_time": "2021-05-16T12:12:20.181921",
     "status": "completed"
    },
    "tags": []
   },
   "outputs": [],
   "source": [
    "# Constants\n",
    "IMG_SHAPE = (28, 28, 1) # Image shape\n",
    "IMG_SIZE = (-1, 28, 28, 1) # Image shape + batch size\n",
    "NUM_CLASSES = 10 # Number of classes (0 ... 9)\n",
    "MAX_EPOCHS = 100 # Maximal number of epochs to run training\n",
    "BATCH_SIZE = 128 # Training batch size"
   ]
  },
  {
   "cell_type": "markdown",
   "id": "lucky-background",
   "metadata": {
    "papermill": {
     "duration": 0.02085,
     "end_time": "2021-05-16T12:12:20.256318",
     "exception": false,
     "start_time": "2021-05-16T12:12:20.235468",
     "status": "completed"
    },
    "tags": []
   },
   "source": [
    "# Import data"
   ]
  },
  {
   "cell_type": "code",
   "execution_count": 3,
   "id": "radio-elder",
   "metadata": {
    "execution": {
     "iopub.execute_input": "2021-05-16T12:12:20.302181Z",
     "iopub.status.busy": "2021-05-16T12:12:20.301258Z",
     "iopub.status.idle": "2021-05-16T12:12:26.502441Z",
     "shell.execute_reply": "2021-05-16T12:12:26.501518Z"
    },
    "papermill": {
     "duration": 6.225193,
     "end_time": "2021-05-16T12:12:26.502625",
     "exception": false,
     "start_time": "2021-05-16T12:12:20.277432",
     "status": "completed"
    },
    "tags": []
   },
   "outputs": [
    {
     "name": "stdout",
     "output_type": "stream",
     "text": [
      "(42000, 785)\n",
      "(28000, 784)\n"
     ]
    }
   ],
   "source": [
    "# Load data\n",
    "train = pd.read_csv(\"../input/digit-recognizer/train.csv\")\n",
    "test = pd.read_csv(\"../input/digit-recognizer/test.csv\")\n",
    "\n",
    "print(train.shape)\n",
    "print(test.shape)"
   ]
  },
  {
   "cell_type": "code",
   "execution_count": 4,
   "id": "hazardous-patch",
   "metadata": {
    "execution": {
     "iopub.execute_input": "2021-05-16T12:12:26.561179Z",
     "iopub.status.busy": "2021-05-16T12:12:26.560567Z",
     "iopub.status.idle": "2021-05-16T12:12:26.587090Z",
     "shell.execute_reply": "2021-05-16T12:12:26.586429Z"
    },
    "papermill": {
     "duration": 0.061346,
     "end_time": "2021-05-16T12:12:26.587233",
     "exception": false,
     "start_time": "2021-05-16T12:12:26.525887",
     "status": "completed"
    },
    "tags": []
   },
   "outputs": [
    {
     "data": {
      "text/html": [
       "<div>\n",
       "<style scoped>\n",
       "    .dataframe tbody tr th:only-of-type {\n",
       "        vertical-align: middle;\n",
       "    }\n",
       "\n",
       "    .dataframe tbody tr th {\n",
       "        vertical-align: top;\n",
       "    }\n",
       "\n",
       "    .dataframe thead th {\n",
       "        text-align: right;\n",
       "    }\n",
       "</style>\n",
       "<table border=\"1\" class=\"dataframe\">\n",
       "  <thead>\n",
       "    <tr style=\"text-align: right;\">\n",
       "      <th></th>\n",
       "      <th>label</th>\n",
       "      <th>pixel0</th>\n",
       "      <th>pixel1</th>\n",
       "      <th>pixel2</th>\n",
       "      <th>pixel3</th>\n",
       "      <th>pixel4</th>\n",
       "      <th>pixel5</th>\n",
       "      <th>pixel6</th>\n",
       "      <th>pixel7</th>\n",
       "      <th>pixel8</th>\n",
       "      <th>...</th>\n",
       "      <th>pixel774</th>\n",
       "      <th>pixel775</th>\n",
       "      <th>pixel776</th>\n",
       "      <th>pixel777</th>\n",
       "      <th>pixel778</th>\n",
       "      <th>pixel779</th>\n",
       "      <th>pixel780</th>\n",
       "      <th>pixel781</th>\n",
       "      <th>pixel782</th>\n",
       "      <th>pixel783</th>\n",
       "    </tr>\n",
       "  </thead>\n",
       "  <tbody>\n",
       "    <tr>\n",
       "      <th>0</th>\n",
       "      <td>1</td>\n",
       "      <td>0</td>\n",
       "      <td>0</td>\n",
       "      <td>0</td>\n",
       "      <td>0</td>\n",
       "      <td>0</td>\n",
       "      <td>0</td>\n",
       "      <td>0</td>\n",
       "      <td>0</td>\n",
       "      <td>0</td>\n",
       "      <td>...</td>\n",
       "      <td>0</td>\n",
       "      <td>0</td>\n",
       "      <td>0</td>\n",
       "      <td>0</td>\n",
       "      <td>0</td>\n",
       "      <td>0</td>\n",
       "      <td>0</td>\n",
       "      <td>0</td>\n",
       "      <td>0</td>\n",
       "      <td>0</td>\n",
       "    </tr>\n",
       "    <tr>\n",
       "      <th>1</th>\n",
       "      <td>0</td>\n",
       "      <td>0</td>\n",
       "      <td>0</td>\n",
       "      <td>0</td>\n",
       "      <td>0</td>\n",
       "      <td>0</td>\n",
       "      <td>0</td>\n",
       "      <td>0</td>\n",
       "      <td>0</td>\n",
       "      <td>0</td>\n",
       "      <td>...</td>\n",
       "      <td>0</td>\n",
       "      <td>0</td>\n",
       "      <td>0</td>\n",
       "      <td>0</td>\n",
       "      <td>0</td>\n",
       "      <td>0</td>\n",
       "      <td>0</td>\n",
       "      <td>0</td>\n",
       "      <td>0</td>\n",
       "      <td>0</td>\n",
       "    </tr>\n",
       "    <tr>\n",
       "      <th>2</th>\n",
       "      <td>1</td>\n",
       "      <td>0</td>\n",
       "      <td>0</td>\n",
       "      <td>0</td>\n",
       "      <td>0</td>\n",
       "      <td>0</td>\n",
       "      <td>0</td>\n",
       "      <td>0</td>\n",
       "      <td>0</td>\n",
       "      <td>0</td>\n",
       "      <td>...</td>\n",
       "      <td>0</td>\n",
       "      <td>0</td>\n",
       "      <td>0</td>\n",
       "      <td>0</td>\n",
       "      <td>0</td>\n",
       "      <td>0</td>\n",
       "      <td>0</td>\n",
       "      <td>0</td>\n",
       "      <td>0</td>\n",
       "      <td>0</td>\n",
       "    </tr>\n",
       "    <tr>\n",
       "      <th>3</th>\n",
       "      <td>4</td>\n",
       "      <td>0</td>\n",
       "      <td>0</td>\n",
       "      <td>0</td>\n",
       "      <td>0</td>\n",
       "      <td>0</td>\n",
       "      <td>0</td>\n",
       "      <td>0</td>\n",
       "      <td>0</td>\n",
       "      <td>0</td>\n",
       "      <td>...</td>\n",
       "      <td>0</td>\n",
       "      <td>0</td>\n",
       "      <td>0</td>\n",
       "      <td>0</td>\n",
       "      <td>0</td>\n",
       "      <td>0</td>\n",
       "      <td>0</td>\n",
       "      <td>0</td>\n",
       "      <td>0</td>\n",
       "      <td>0</td>\n",
       "    </tr>\n",
       "    <tr>\n",
       "      <th>4</th>\n",
       "      <td>0</td>\n",
       "      <td>0</td>\n",
       "      <td>0</td>\n",
       "      <td>0</td>\n",
       "      <td>0</td>\n",
       "      <td>0</td>\n",
       "      <td>0</td>\n",
       "      <td>0</td>\n",
       "      <td>0</td>\n",
       "      <td>0</td>\n",
       "      <td>...</td>\n",
       "      <td>0</td>\n",
       "      <td>0</td>\n",
       "      <td>0</td>\n",
       "      <td>0</td>\n",
       "      <td>0</td>\n",
       "      <td>0</td>\n",
       "      <td>0</td>\n",
       "      <td>0</td>\n",
       "      <td>0</td>\n",
       "      <td>0</td>\n",
       "    </tr>\n",
       "  </tbody>\n",
       "</table>\n",
       "<p>5 rows × 785 columns</p>\n",
       "</div>"
      ],
      "text/plain": [
       "   label  pixel0  pixel1  pixel2  pixel3  pixel4  pixel5  pixel6  pixel7  \\\n",
       "0      1       0       0       0       0       0       0       0       0   \n",
       "1      0       0       0       0       0       0       0       0       0   \n",
       "2      1       0       0       0       0       0       0       0       0   \n",
       "3      4       0       0       0       0       0       0       0       0   \n",
       "4      0       0       0       0       0       0       0       0       0   \n",
       "\n",
       "   pixel8  ...  pixel774  pixel775  pixel776  pixel777  pixel778  pixel779  \\\n",
       "0       0  ...         0         0         0         0         0         0   \n",
       "1       0  ...         0         0         0         0         0         0   \n",
       "2       0  ...         0         0         0         0         0         0   \n",
       "3       0  ...         0         0         0         0         0         0   \n",
       "4       0  ...         0         0         0         0         0         0   \n",
       "\n",
       "   pixel780  pixel781  pixel782  pixel783  \n",
       "0         0         0         0         0  \n",
       "1         0         0         0         0  \n",
       "2         0         0         0         0  \n",
       "3         0         0         0         0  \n",
       "4         0         0         0         0  \n",
       "\n",
       "[5 rows x 785 columns]"
      ]
     },
     "execution_count": 4,
     "metadata": {},
     "output_type": "execute_result"
    }
   ],
   "source": [
    "# Print data fields to see data format\n",
    "train.head()"
   ]
  },
  {
   "cell_type": "code",
   "execution_count": 5,
   "id": "suburban-optimization",
   "metadata": {
    "execution": {
     "iopub.execute_input": "2021-05-16T12:12:26.651634Z",
     "iopub.status.busy": "2021-05-16T12:12:26.650762Z",
     "iopub.status.idle": "2021-05-16T12:12:26.656063Z",
     "shell.execute_reply": "2021-05-16T12:12:26.655471Z"
    },
    "papermill": {
     "duration": 0.045439,
     "end_time": "2021-05-16T12:12:26.656192",
     "exception": false,
     "start_time": "2021-05-16T12:12:26.610753",
     "status": "completed"
    },
    "tags": []
   },
   "outputs": [
    {
     "data": {
      "text/html": [
       "<div>\n",
       "<style scoped>\n",
       "    .dataframe tbody tr th:only-of-type {\n",
       "        vertical-align: middle;\n",
       "    }\n",
       "\n",
       "    .dataframe tbody tr th {\n",
       "        vertical-align: top;\n",
       "    }\n",
       "\n",
       "    .dataframe thead th {\n",
       "        text-align: right;\n",
       "    }\n",
       "</style>\n",
       "<table border=\"1\" class=\"dataframe\">\n",
       "  <thead>\n",
       "    <tr style=\"text-align: right;\">\n",
       "      <th></th>\n",
       "      <th>pixel0</th>\n",
       "      <th>pixel1</th>\n",
       "      <th>pixel2</th>\n",
       "      <th>pixel3</th>\n",
       "      <th>pixel4</th>\n",
       "      <th>pixel5</th>\n",
       "      <th>pixel6</th>\n",
       "      <th>pixel7</th>\n",
       "      <th>pixel8</th>\n",
       "      <th>pixel9</th>\n",
       "      <th>...</th>\n",
       "      <th>pixel774</th>\n",
       "      <th>pixel775</th>\n",
       "      <th>pixel776</th>\n",
       "      <th>pixel777</th>\n",
       "      <th>pixel778</th>\n",
       "      <th>pixel779</th>\n",
       "      <th>pixel780</th>\n",
       "      <th>pixel781</th>\n",
       "      <th>pixel782</th>\n",
       "      <th>pixel783</th>\n",
       "    </tr>\n",
       "  </thead>\n",
       "  <tbody>\n",
       "    <tr>\n",
       "      <th>0</th>\n",
       "      <td>0</td>\n",
       "      <td>0</td>\n",
       "      <td>0</td>\n",
       "      <td>0</td>\n",
       "      <td>0</td>\n",
       "      <td>0</td>\n",
       "      <td>0</td>\n",
       "      <td>0</td>\n",
       "      <td>0</td>\n",
       "      <td>0</td>\n",
       "      <td>...</td>\n",
       "      <td>0</td>\n",
       "      <td>0</td>\n",
       "      <td>0</td>\n",
       "      <td>0</td>\n",
       "      <td>0</td>\n",
       "      <td>0</td>\n",
       "      <td>0</td>\n",
       "      <td>0</td>\n",
       "      <td>0</td>\n",
       "      <td>0</td>\n",
       "    </tr>\n",
       "    <tr>\n",
       "      <th>1</th>\n",
       "      <td>0</td>\n",
       "      <td>0</td>\n",
       "      <td>0</td>\n",
       "      <td>0</td>\n",
       "      <td>0</td>\n",
       "      <td>0</td>\n",
       "      <td>0</td>\n",
       "      <td>0</td>\n",
       "      <td>0</td>\n",
       "      <td>0</td>\n",
       "      <td>...</td>\n",
       "      <td>0</td>\n",
       "      <td>0</td>\n",
       "      <td>0</td>\n",
       "      <td>0</td>\n",
       "      <td>0</td>\n",
       "      <td>0</td>\n",
       "      <td>0</td>\n",
       "      <td>0</td>\n",
       "      <td>0</td>\n",
       "      <td>0</td>\n",
       "    </tr>\n",
       "    <tr>\n",
       "      <th>2</th>\n",
       "      <td>0</td>\n",
       "      <td>0</td>\n",
       "      <td>0</td>\n",
       "      <td>0</td>\n",
       "      <td>0</td>\n",
       "      <td>0</td>\n",
       "      <td>0</td>\n",
       "      <td>0</td>\n",
       "      <td>0</td>\n",
       "      <td>0</td>\n",
       "      <td>...</td>\n",
       "      <td>0</td>\n",
       "      <td>0</td>\n",
       "      <td>0</td>\n",
       "      <td>0</td>\n",
       "      <td>0</td>\n",
       "      <td>0</td>\n",
       "      <td>0</td>\n",
       "      <td>0</td>\n",
       "      <td>0</td>\n",
       "      <td>0</td>\n",
       "    </tr>\n",
       "    <tr>\n",
       "      <th>3</th>\n",
       "      <td>0</td>\n",
       "      <td>0</td>\n",
       "      <td>0</td>\n",
       "      <td>0</td>\n",
       "      <td>0</td>\n",
       "      <td>0</td>\n",
       "      <td>0</td>\n",
       "      <td>0</td>\n",
       "      <td>0</td>\n",
       "      <td>0</td>\n",
       "      <td>...</td>\n",
       "      <td>0</td>\n",
       "      <td>0</td>\n",
       "      <td>0</td>\n",
       "      <td>0</td>\n",
       "      <td>0</td>\n",
       "      <td>0</td>\n",
       "      <td>0</td>\n",
       "      <td>0</td>\n",
       "      <td>0</td>\n",
       "      <td>0</td>\n",
       "    </tr>\n",
       "    <tr>\n",
       "      <th>4</th>\n",
       "      <td>0</td>\n",
       "      <td>0</td>\n",
       "      <td>0</td>\n",
       "      <td>0</td>\n",
       "      <td>0</td>\n",
       "      <td>0</td>\n",
       "      <td>0</td>\n",
       "      <td>0</td>\n",
       "      <td>0</td>\n",
       "      <td>0</td>\n",
       "      <td>...</td>\n",
       "      <td>0</td>\n",
       "      <td>0</td>\n",
       "      <td>0</td>\n",
       "      <td>0</td>\n",
       "      <td>0</td>\n",
       "      <td>0</td>\n",
       "      <td>0</td>\n",
       "      <td>0</td>\n",
       "      <td>0</td>\n",
       "      <td>0</td>\n",
       "    </tr>\n",
       "  </tbody>\n",
       "</table>\n",
       "<p>5 rows × 784 columns</p>\n",
       "</div>"
      ],
      "text/plain": [
       "   pixel0  pixel1  pixel2  pixel3  pixel4  pixel5  pixel6  pixel7  pixel8  \\\n",
       "0       0       0       0       0       0       0       0       0       0   \n",
       "1       0       0       0       0       0       0       0       0       0   \n",
       "2       0       0       0       0       0       0       0       0       0   \n",
       "3       0       0       0       0       0       0       0       0       0   \n",
       "4       0       0       0       0       0       0       0       0       0   \n",
       "\n",
       "   pixel9  ...  pixel774  pixel775  pixel776  pixel777  pixel778  pixel779  \\\n",
       "0       0  ...         0         0         0         0         0         0   \n",
       "1       0  ...         0         0         0         0         0         0   \n",
       "2       0  ...         0         0         0         0         0         0   \n",
       "3       0  ...         0         0         0         0         0         0   \n",
       "4       0  ...         0         0         0         0         0         0   \n",
       "\n",
       "   pixel780  pixel781  pixel782  pixel783  \n",
       "0         0         0         0         0  \n",
       "1         0         0         0         0  \n",
       "2         0         0         0         0  \n",
       "3         0         0         0         0  \n",
       "4         0         0         0         0  \n",
       "\n",
       "[5 rows x 784 columns]"
      ]
     },
     "execution_count": 5,
     "metadata": {},
     "output_type": "execute_result"
    }
   ],
   "source": [
    "test.head()"
   ]
  },
  {
   "cell_type": "code",
   "execution_count": 6,
   "id": "rough-acting",
   "metadata": {
    "execution": {
     "iopub.execute_input": "2021-05-16T12:12:26.711144Z",
     "iopub.status.busy": "2021-05-16T12:12:26.710212Z",
     "iopub.status.idle": "2021-05-16T12:12:26.832767Z",
     "shell.execute_reply": "2021-05-16T12:12:26.833457Z"
    },
    "papermill": {
     "duration": 0.154023,
     "end_time": "2021-05-16T12:12:26.833652",
     "exception": false,
     "start_time": "2021-05-16T12:12:26.679629",
     "status": "completed"
    },
    "tags": []
   },
   "outputs": [
    {
     "name": "stdout",
     "output_type": "stream",
     "text": [
      "(42000, 10)\n",
      "(42000, 784)\n",
      "(28000, 784)\n"
     ]
    }
   ],
   "source": [
    "# One-hot encode labels\n",
    "labels = train['label']\n",
    "Y_train = tf.keras.utils.to_categorical(labels, NUM_CLASSES)\n",
    "\n",
    "# Get images\n",
    "X_train = train.drop(['label'], axis=1) # Drop label column\n",
    "X_test = test\n",
    "\n",
    "print(Y_train.shape)\n",
    "print(X_train.shape)\n",
    "print(X_test.shape)"
   ]
  },
  {
   "cell_type": "code",
   "execution_count": 7,
   "id": "bridal-inside",
   "metadata": {
    "execution": {
     "iopub.execute_input": "2021-05-16T12:12:26.893400Z",
     "iopub.status.busy": "2021-05-16T12:12:26.889767Z",
     "iopub.status.idle": "2021-05-16T12:12:27.099376Z",
     "shell.execute_reply": "2021-05-16T12:12:27.098859Z"
    },
    "papermill": {
     "duration": 0.241558,
     "end_time": "2021-05-16T12:12:27.099525",
     "exception": false,
     "start_time": "2021-05-16T12:12:26.857967",
     "status": "completed"
    },
    "tags": []
   },
   "outputs": [
    {
     "name": "stdout",
     "output_type": "stream",
     "text": [
      "Values / Amount\n",
      "1    4684\n",
      "7    4401\n",
      "3    4351\n",
      "9    4188\n",
      "2    4177\n",
      "6    4137\n",
      "0    4132\n",
      "4    4072\n",
      "8    4063\n",
      "5    3795\n",
      "Name: label, dtype: int64\n"
     ]
    },
    {
     "data": {
      "text/plain": [
       "<AxesSubplot:xlabel='label', ylabel='count'>"
      ]
     },
     "execution_count": 7,
     "metadata": {},
     "output_type": "execute_result"
    },
    {
     "data": {
      "image/png": "[encoded data removed]",
      "text/plain": [
       "<Figure size 1080x504 with 1 Axes>"
      ]
     },
     "metadata": {
      "needs_background": "light"
     },
     "output_type": "display_data"
    }
   ],
   "source": [
    "# Check data values and frequencies\n",
    "print('Values / Amount')\n",
    "print(labels.value_counts())\n",
    "\n",
    "plt.figure(figsize=(15,7))\n",
    "sns.countplot(x=labels, palette='flare')"
   ]
  },
  {
   "cell_type": "markdown",
   "id": "atmospheric-chocolate",
   "metadata": {
    "papermill": {
     "duration": 0.025382,
     "end_time": "2021-05-16T12:12:27.150604",
     "exception": false,
     "start_time": "2021-05-16T12:12:27.125222",
     "status": "completed"
    },
    "tags": []
   },
   "source": [
    "# Data preperation"
   ]
  },
  {
   "cell_type": "code",
   "execution_count": 8,
   "id": "modular-friendship",
   "metadata": {
    "execution": {
     "iopub.execute_input": "2021-05-16T12:12:27.208241Z",
     "iopub.status.busy": "2021-05-16T12:12:27.207640Z",
     "iopub.status.idle": "2021-05-16T12:12:27.418644Z",
     "shell.execute_reply": "2021-05-16T12:12:27.418057Z"
    },
    "papermill": {
     "duration": 0.242562,
     "end_time": "2021-05-16T12:12:27.418801",
     "exception": false,
     "start_time": "2021-05-16T12:12:27.176239",
     "status": "completed"
    },
    "tags": []
   },
   "outputs": [
    {
     "name": "stdout",
     "output_type": "stream",
     "text": [
      "(42000, 28, 28, 1)\n",
      "(28000, 28, 28, 1)\n"
     ]
    }
   ],
   "source": [
    "# Normalize and reshape\n",
    "X_train = X_train.values.reshape(IMG_SIZE)\n",
    "X_test = X_test.values.reshape(IMG_SIZE)\n",
    "\n",
    "X_train = X_train / 255.0\n",
    "X_test = X_test / 255.0\n",
    "\n",
    "print(X_train.shape)\n",
    "print(X_test.shape)"
   ]
  },
  {
   "cell_type": "code",
   "execution_count": 9,
   "id": "embedded-queen",
   "metadata": {
    "execution": {
     "iopub.execute_input": "2021-05-16T12:12:27.477519Z",
     "iopub.status.busy": "2021-05-16T12:12:27.476815Z",
     "iopub.status.idle": "2021-05-16T12:12:27.894837Z",
     "shell.execute_reply": "2021-05-16T12:12:27.894310Z"
    },
    "papermill": {
     "duration": 0.450364,
     "end_time": "2021-05-16T12:12:27.894969",
     "exception": false,
     "start_time": "2021-05-16T12:12:27.444605",
     "status": "completed"
    },
    "tags": []
   },
   "outputs": [
    {
     "name": "stdout",
     "output_type": "stream",
     "text": [
      "(33600, 28, 28, 1)\n",
      "(8400, 28, 28, 1)\n",
      "(33600, 10)\n",
      "(8400, 10)\n"
     ]
    }
   ],
   "source": [
    "# Split training data to train/validation sets\n",
    "x_train, x_val, y_train, y_val = train_test_split(X_train, Y_train, test_size=0.2)\n",
    "\n",
    "print(x_train.shape)\n",
    "print(x_val.shape)\n",
    "print(y_train.shape)\n",
    "print(y_val.shape)"
   ]
  },
  {
   "cell_type": "code",
   "execution_count": 10,
   "id": "micro-hometown",
   "metadata": {
    "execution": {
     "iopub.execute_input": "2021-05-16T12:12:28.134163Z",
     "iopub.status.busy": "2021-05-16T12:12:28.115570Z",
     "iopub.status.idle": "2021-05-16T12:12:28.542503Z",
     "shell.execute_reply": "2021-05-16T12:12:28.541853Z"
    },
    "papermill": {
     "duration": 0.621634,
     "end_time": "2021-05-16T12:12:28.542636",
     "exception": false,
     "start_time": "2021-05-16T12:12:27.921002",
     "status": "completed"
    },
    "tags": []
   },
   "outputs": [
    {
     "data": {
      "image/png": "[encoded data removed]",
      "text/plain": [
       "<Figure size 720x720 with 9 Axes>"
      ]
     },
     "metadata": {
      "needs_background": "light"
     },
     "output_type": "display_data"
    }
   ],
   "source": [
    "# Show sample images\n",
    "plt.figure(figsize=(10, 10))\n",
    "for i in range(9):\n",
    "    image = x_train[i]\n",
    "    label = labels[i]\n",
    "\n",
    "    ax = plt.subplot(3, 3, i + 1)\n",
    "    plt.imshow(image)\n",
    "    plt.title(label)\n",
    "    plt.axis(\"off\")"
   ]
  },
  {
   "cell_type": "code",
   "execution_count": 11,
   "id": "cultural-volunteer",
   "metadata": {
    "execution": {
     "iopub.execute_input": "2021-05-16T12:12:28.602111Z",
     "iopub.status.busy": "2021-05-16T12:12:28.601507Z",
     "iopub.status.idle": "2021-05-16T12:12:28.604551Z",
     "shell.execute_reply": "2021-05-16T12:12:28.604027Z"
    },
    "papermill": {
     "duration": 0.034916,
     "end_time": "2021-05-16T12:12:28.604685",
     "exception": false,
     "start_time": "2021-05-16T12:12:28.569769",
     "status": "completed"
    },
    "tags": []
   },
   "outputs": [],
   "source": [
    "# Augment data using data generator\n",
    "datagen = tf.keras.preprocessing.image.ImageDataGenerator(\n",
    "    rotation_range=8,\n",
    "    width_shift_range=0.05,\n",
    "    height_shift_range=0.05,\n",
    "    zoom_range=0.1,\n",
    ")"
   ]
  },
  {
   "cell_type": "markdown",
   "id": "prostate-arena",
   "metadata": {
    "papermill": {
     "duration": 0.026803,
     "end_time": "2021-05-16T12:12:28.658491",
     "exception": false,
     "start_time": "2021-05-16T12:12:28.631688",
     "status": "completed"
    },
    "tags": []
   },
   "source": [
    "# Model"
   ]
  },
  {
   "cell_type": "code",
   "execution_count": 12,
   "id": "familiar-charge",
   "metadata": {
    "execution": {
     "iopub.execute_input": "2021-05-16T12:12:28.724137Z",
     "iopub.status.busy": "2021-05-16T12:12:28.723512Z",
     "iopub.status.idle": "2021-05-16T12:12:28.887136Z",
     "shell.execute_reply": "2021-05-16T12:12:28.886552Z"
    },
    "papermill": {
     "duration": 0.201919,
     "end_time": "2021-05-16T12:12:28.887329",
     "exception": false,
     "start_time": "2021-05-16T12:12:28.685410",
     "status": "completed"
    },
    "tags": []
   },
   "outputs": [],
   "source": [
    "# Create simple conv model\n",
    "def createModel():\n",
    "    # Input\n",
    "    inputs = tf.keras.Input(shape=IMG_SHAPE)\n",
    "\n",
    "    # Conv layers\n",
    "    x = tf.keras.layers.Conv2D(32, 3, activation='relu')(inputs)\n",
    "    x = tf.keras.layers.Conv2D(32, 3, activation='relu')(x)\n",
    "    x = tf.keras.layers.MaxPooling2D(2)(x)\n",
    "    x = tf.keras.layers.BatchNormalization()(x)\n",
    "    x = tf.keras.layers.Dropout(0.2)(x)\n",
    "    \n",
    "    x = tf.keras.layers.Conv2D(64, 3, activation='relu')(x)\n",
    "    x = tf.keras.layers.MaxPooling2D(2)(x)\n",
    "    x = tf.keras.layers.BatchNormalization()(x)\n",
    "    x = tf.keras.layers.Dropout(0.2)(x)\n",
    "    \n",
    "    x = tf.keras.layers.Conv2D(128, 3, activation='relu')(x)\n",
    "    x = tf.keras.layers.MaxPooling2D(2)(x)\n",
    "    x = tf.keras.layers.BatchNormalization()(x)\n",
    "\n",
    "    # Flatten\n",
    "    x = tf.keras.layers.Flatten()(x)\n",
    "\n",
    "    # Dense layers\n",
    "    x = tf.keras.layers.Dense(256, activation='relu')(x)\n",
    "    x = tf.keras.layers.Dropout(0.5)(x)\n",
    "\n",
    "    # Output\n",
    "    outputs = tf.keras.layers.Dense(NUM_CLASSES, activation='softmax')(x)\n",
    "\n",
    "    # Create model\n",
    "    return tf.keras.Model(inputs=inputs, outputs=outputs)\n",
    "\n",
    "model = createModel()"
   ]
  },
  {
   "cell_type": "code",
   "execution_count": 13,
   "id": "capable-rotation",
   "metadata": {
    "execution": {
     "iopub.execute_input": "2021-05-16T12:12:28.949565Z",
     "iopub.status.busy": "2021-05-16T12:12:28.948597Z",
     "iopub.status.idle": "2021-05-16T12:12:28.959516Z",
     "shell.execute_reply": "2021-05-16T12:12:28.960439Z"
    },
    "papermill": {
     "duration": 0.045728,
     "end_time": "2021-05-16T12:12:28.960767",
     "exception": false,
     "start_time": "2021-05-16T12:12:28.915039",
     "status": "completed"
    },
    "tags": []
   },
   "outputs": [
    {
     "name": "stdout",
     "output_type": "stream",
     "text": [
      "Model: \"model\"\n",
      "_________________________________________________________________\n",
      "Layer (type)                 Output Shape              Param #   \n",
      "=================================================================\n",
      "input_1 (InputLayer)         [(None, 28, 28, 1)]       0         \n",
      "_________________________________________________________________\n",
      "conv2d (Conv2D)              (None, 26, 26, 32)        320       \n",
      "_________________________________________________________________\n",
      "conv2d_1 (Conv2D)            (None, 24, 24, 32)        9248      \n",
      "_________________________________________________________________\n",
      "max_pooling2d (MaxPooling2D) (None, 12, 12, 32)        0         \n",
      "_________________________________________________________________\n",
      "batch_normalization (BatchNo (None, 12, 12, 32)        128       \n",
      "_________________________________________________________________\n",
      "dropout (Dropout)            (None, 12, 12, 32)        0         \n",
      "_________________________________________________________________\n",
      "conv2d_2 (Conv2D)            (None, 10, 10, 64)        18496     \n",
      "_________________________________________________________________\n",
      "max_pooling2d_1 (MaxPooling2 (None, 5, 5, 64)          0         \n",
      "_________________________________________________________________\n",
      "batch_normalization_1 (Batch (None, 5, 5, 64)          256       \n",
      "_________________________________________________________________\n",
      "dropout_1 (Dropout)          (None, 5, 5, 64)          0         \n",
      "_________________________________________________________________\n",
      "conv2d_3 (Conv2D)            (None, 3, 3, 128)         73856     \n",
      "_________________________________________________________________\n",
      "max_pooling2d_2 (MaxPooling2 (None, 1, 1, 128)         0         \n",
      "_________________________________________________________________\n",
      "batch_normalization_2 (Batch (None, 1, 1, 128)         512       \n",
      "_________________________________________________________________\n",
      "flatten (Flatten)            (None, 128)               0         \n",
      "_________________________________________________________________\n",
      "dense (Dense)                (None, 256)               33024     \n",
      "_________________________________________________________________\n",
      "dropout_2 (Dropout)          (None, 256)               0         \n",
      "_________________________________________________________________\n",
      "dense_1 (Dense)              (None, 10)                2570      \n",
      "=================================================================\n",
      "Total params: 138,410\n",
      "Trainable params: 137,962\n",
      "Non-trainable params: 448\n",
      "_________________________________________________________________\n"
     ]
    }
   ],
   "source": [
    "model.summary()"
   ]
  },
  {
   "cell_type": "code",
   "execution_count": 14,
   "id": "described-cemetery",
   "metadata": {
    "execution": {
     "iopub.execute_input": "2021-05-16T12:12:29.037510Z",
     "iopub.status.busy": "2021-05-16T12:12:29.036807Z",
     "iopub.status.idle": "2021-05-16T12:12:29.552067Z",
     "shell.execute_reply": "2021-05-16T12:12:29.552601Z"
    },
    "papermill": {
     "duration": 0.562838,
     "end_time": "2021-05-16T12:12:29.552804",
     "exception": false,
     "start_time": "2021-05-16T12:12:28.989966",
     "status": "completed"
    },
    "tags": []
   },
   "outputs": [
    {
     "data": {
      "image/png": "[encoded data removed]",
      "text/plain": [
       "<IPython.core.display.Image object>"
      ]
     },
     "execution_count": 14,
     "metadata": {},
     "output_type": "execute_result"
    }
   ],
   "source": [
    "tf.keras.utils.plot_model(model, show_shapes=True)"
   ]
  },
  {
   "cell_type": "code",
   "execution_count": 15,
   "id": "optimum-service",
   "metadata": {
    "execution": {
     "iopub.execute_input": "2021-05-16T12:12:29.631828Z",
     "iopub.status.busy": "2021-05-16T12:12:29.626602Z",
     "iopub.status.idle": "2021-05-16T12:12:29.643973Z",
     "shell.execute_reply": "2021-05-16T12:12:29.643401Z"
    },
    "papermill": {
     "duration": 0.059056,
     "end_time": "2021-05-16T12:12:29.644126",
     "exception": false,
     "start_time": "2021-05-16T12:12:29.585070",
     "status": "completed"
    },
    "tags": []
   },
   "outputs": [],
   "source": [
    "# Compile\n",
    "model.compile(loss=tf.keras.losses.CategoricalCrossentropy(from_logits=False),\n",
    "             optimizer=tf.keras.optimizers.Adam(),\n",
    "             metrics=['accuracy'])"
   ]
  },
  {
   "cell_type": "code",
   "execution_count": 16,
   "id": "about-interpretation",
   "metadata": {
    "execution": {
     "iopub.execute_input": "2021-05-16T12:12:29.713799Z",
     "iopub.status.busy": "2021-05-16T12:12:29.713190Z",
     "iopub.status.idle": "2021-05-16T12:12:29.716062Z",
     "shell.execute_reply": "2021-05-16T12:12:29.715584Z"
    },
    "papermill": {
     "duration": 0.039908,
     "end_time": "2021-05-16T12:12:29.716205",
     "exception": false,
     "start_time": "2021-05-16T12:12:29.676297",
     "status": "completed"
    },
    "tags": []
   },
   "outputs": [],
   "source": [
    "# Define early stopping callback\n",
    "early_stop = tf.keras.callbacks.EarlyStopping(monitor='val_loss', mode='min', verbose=1, patience=5)"
   ]
  },
  {
   "cell_type": "code",
   "execution_count": 17,
   "id": "separate-collect",
   "metadata": {
    "execution": {
     "iopub.execute_input": "2021-05-16T12:12:29.786166Z",
     "iopub.status.busy": "2021-05-16T12:12:29.785561Z",
     "iopub.status.idle": "2021-05-16T12:32:16.781472Z",
     "shell.execute_reply": "2021-05-16T12:32:16.782105Z"
    },
    "papermill": {
     "duration": 1187.033821,
     "end_time": "2021-05-16T12:32:16.782370",
     "exception": false,
     "start_time": "2021-05-16T12:12:29.748549",
     "status": "completed"
    },
    "tags": []
   },
   "outputs": [
    {
     "name": "stdout",
     "output_type": "stream",
     "text": [
      "Epoch 1/100\n",
      "263/263 [==============================] - 49s 183ms/step - loss: 0.7572 - accuracy: 0.7572 - val_loss: 1.5330 - val_accuracy: 0.2645\n",
      "Epoch 2/100\n",
      "263/263 [==============================] - 47s 178ms/step - loss: 0.1388 - accuracy: 0.9571 - val_loss: 0.0595 - val_accuracy: 0.9852\n",
      "Epoch 3/100\n",
      "263/263 [==============================] - 47s 178ms/step - loss: 0.1023 - accuracy: 0.9680 - val_loss: 0.0489 - val_accuracy: 0.9855\n",
      "Epoch 4/100\n",
      "263/263 [==============================] - 47s 179ms/step - loss: 0.0830 - accuracy: 0.9756 - val_loss: 0.0443 - val_accuracy: 0.9868\n",
      "Epoch 5/100\n",
      "263/263 [==============================] - 47s 178ms/step - loss: 0.0755 - accuracy: 0.9781 - val_loss: 0.0390 - val_accuracy: 0.9887\n",
      "Epoch 6/100\n",
      "263/263 [==============================] - 47s 179ms/step - loss: 0.0632 - accuracy: 0.9803 - val_loss: 0.0338 - val_accuracy: 0.9908\n",
      "Epoch 7/100\n",
      "263/263 [==============================] - 47s 178ms/step - loss: 0.0623 - accuracy: 0.9804 - val_loss: 0.0321 - val_accuracy: 0.9904\n",
      "Epoch 8/100\n",
      "263/263 [==============================] - 47s 179ms/step - loss: 0.0549 - accuracy: 0.9843 - val_loss: 0.0314 - val_accuracy: 0.9917\n",
      "Epoch 9/100\n",
      "263/263 [==============================] - 47s 177ms/step - loss: 0.0580 - accuracy: 0.9815 - val_loss: 0.0329 - val_accuracy: 0.9911\n",
      "Epoch 10/100\n",
      "263/263 [==============================] - 47s 180ms/step - loss: 0.0461 - accuracy: 0.9860 - val_loss: 0.0339 - val_accuracy: 0.9910\n",
      "Epoch 11/100\n",
      "263/263 [==============================] - 47s 179ms/step - loss: 0.0499 - accuracy: 0.9859 - val_loss: 0.0286 - val_accuracy: 0.9925\n",
      "Epoch 12/100\n",
      "263/263 [==============================] - 48s 181ms/step - loss: 0.0456 - accuracy: 0.9857 - val_loss: 0.0334 - val_accuracy: 0.9907\n",
      "Epoch 13/100\n",
      "263/263 [==============================] - 47s 178ms/step - loss: 0.0426 - accuracy: 0.9870 - val_loss: 0.0274 - val_accuracy: 0.9931\n",
      "Epoch 14/100\n",
      "263/263 [==============================] - 47s 180ms/step - loss: 0.0404 - accuracy: 0.9870 - val_loss: 0.0338 - val_accuracy: 0.9911\n",
      "Epoch 15/100\n",
      "263/263 [==============================] - 47s 180ms/step - loss: 0.0382 - accuracy: 0.9876 - val_loss: 0.0271 - val_accuracy: 0.9929\n",
      "Epoch 16/100\n",
      "263/263 [==============================] - 47s 180ms/step - loss: 0.0406 - accuracy: 0.9867 - val_loss: 0.0319 - val_accuracy: 0.9919\n",
      "Epoch 17/100\n",
      "263/263 [==============================] - 50s 190ms/step - loss: 0.0359 - accuracy: 0.9887 - val_loss: 0.0304 - val_accuracy: 0.9914\n",
      "Epoch 18/100\n",
      "263/263 [==============================] - 48s 182ms/step - loss: 0.0364 - accuracy: 0.9888 - val_loss: 0.0297 - val_accuracy: 0.9918\n",
      "Epoch 19/100\n",
      "263/263 [==============================] - 48s 182ms/step - loss: 0.0347 - accuracy: 0.9888 - val_loss: 0.0260 - val_accuracy: 0.9933\n",
      "Epoch 20/100\n",
      "263/263 [==============================] - 47s 179ms/step - loss: 0.0328 - accuracy: 0.9906 - val_loss: 0.0260 - val_accuracy: 0.9924\n",
      "Epoch 21/100\n",
      "263/263 [==============================] - 48s 182ms/step - loss: 0.0368 - accuracy: 0.9883 - val_loss: 0.0362 - val_accuracy: 0.9905\n",
      "Epoch 22/100\n",
      "263/263 [==============================] - 47s 180ms/step - loss: 0.0355 - accuracy: 0.9888 - val_loss: 0.0295 - val_accuracy: 0.9915\n",
      "Epoch 23/100\n",
      "263/263 [==============================] - 48s 182ms/step - loss: 0.0326 - accuracy: 0.9897 - val_loss: 0.0283 - val_accuracy: 0.9935\n",
      "Epoch 24/100\n",
      "263/263 [==============================] - 48s 181ms/step - loss: 0.0378 - accuracy: 0.9881 - val_loss: 0.0291 - val_accuracy: 0.9929\n",
      "Epoch 25/100\n",
      "263/263 [==============================] - 48s 182ms/step - loss: 0.0305 - accuracy: 0.9904 - val_loss: 0.0290 - val_accuracy: 0.9927\n",
      "Epoch 00025: early stopping\n"
     ]
    }
   ],
   "source": [
    "# Fit\n",
    "history = model.fit(\n",
    "    datagen.flow(x_train, y_train, batch_size=BATCH_SIZE),\n",
    "    validation_data=(x_val, y_val),\n",
    "    epochs=MAX_EPOCHS,\n",
    "    callbacks=[early_stop]\n",
    ")"
   ]
  },
  {
   "cell_type": "markdown",
   "id": "speaking-prison",
   "metadata": {
    "papermill": {
     "duration": 2.055549,
     "end_time": "2021-05-16T12:32:20.883612",
     "exception": false,
     "start_time": "2021-05-16T12:32:18.828063",
     "status": "completed"
    },
    "tags": []
   },
   "source": [
    "# Evaluate"
   ]
  },
  {
   "cell_type": "code",
   "execution_count": 18,
   "id": "registered-champagne",
   "metadata": {
    "execution": {
     "iopub.execute_input": "2021-05-16T12:32:24.989860Z",
     "iopub.status.busy": "2021-05-16T12:32:24.988989Z",
     "iopub.status.idle": "2021-05-16T12:32:36.513952Z",
     "shell.execute_reply": "2021-05-16T12:32:36.513407Z"
    },
    "papermill": {
     "duration": 13.619635,
     "end_time": "2021-05-16T12:32:36.514113",
     "exception": false,
     "start_time": "2021-05-16T12:32:22.894478",
     "status": "completed"
    },
    "tags": []
   },
   "outputs": [
    {
     "name": "stdout",
     "output_type": "stream",
     "text": [
      "1050/1050 [==============================] - 11s 10ms/step - loss: 0.0091 - accuracy: 0.9969\n"
     ]
    },
    {
     "data": {
      "text/plain": [
       "[0.009060714393854141, 0.9969047904014587]"
      ]
     },
     "execution_count": 18,
     "metadata": {},
     "output_type": "execute_result"
    }
   ],
   "source": [
    "# Loss and accuracy on training data (no augmentation)\n",
    "model.evaluate(x_train, y_train) # 99.76%"
   ]
  },
  {
   "cell_type": "code",
   "execution_count": 19,
   "id": "polish-parallel",
   "metadata": {
    "execution": {
     "iopub.execute_input": "2021-05-16T12:32:40.638186Z",
     "iopub.status.busy": "2021-05-16T12:32:40.637511Z",
     "iopub.status.idle": "2021-05-16T12:32:43.358655Z",
     "shell.execute_reply": "2021-05-16T12:32:43.358088Z"
    },
    "papermill": {
     "duration": 4.79028,
     "end_time": "2021-05-16T12:32:43.358861",
     "exception": false,
     "start_time": "2021-05-16T12:32:38.568581",
     "status": "completed"
    },
    "tags": []
   },
   "outputs": [
    {
     "name": "stdout",
     "output_type": "stream",
     "text": [
      "263/263 [==============================] - 3s 10ms/step - loss: 0.0290 - accuracy: 0.9927\n"
     ]
    },
    {
     "data": {
      "text/plain": [
       "[0.028975557535886765, 0.9927380681037903]"
      ]
     },
     "execution_count": 19,
     "metadata": {},
     "output_type": "execute_result"
    }
   ],
   "source": [
    "# Loss and accuracy on validation data\n",
    "model.evaluate(x_val, y_val) # 99.37%%"
   ]
  },
  {
   "cell_type": "code",
   "execution_count": 20,
   "id": "sexual-oakland",
   "metadata": {
    "execution": {
     "iopub.execute_input": "2021-05-16T12:32:47.628892Z",
     "iopub.status.busy": "2021-05-16T12:32:47.628289Z",
     "iopub.status.idle": "2021-05-16T12:32:47.631405Z",
     "shell.execute_reply": "2021-05-16T12:32:47.630902Z"
    },
    "papermill": {
     "duration": 2.142808,
     "end_time": "2021-05-16T12:32:47.631553",
     "exception": false,
     "start_time": "2021-05-16T12:32:45.488745",
     "status": "completed"
    },
    "tags": []
   },
   "outputs": [],
   "source": [
    "# Plot accuracy and loss metrics\n",
    "def plotMetrics(history, epoch_start = 0):\n",
    "    acc = history.history['accuracy']\n",
    "    val_acc = history.history['val_accuracy']\n",
    "\n",
    "    loss = history.history['loss']\n",
    "    val_loss = history.history['val_loss']\n",
    "    \n",
    "    epochs_range = range(len(acc))\n",
    "\n",
    "    plt.figure(figsize=(8, 8))\n",
    "    plt.subplot(2, 1, 1)\n",
    "    plt.plot(epochs_range[2:], acc[2:], label='Training Accuracy')\n",
    "    plt.plot(epochs_range[2:], val_acc[2:], label='Validation Accuracy')\n",
    "    plt.legend(loc='lower right')\n",
    "    plt.title('Training and Validation Accuracy')\n",
    "\n",
    "    plt.subplot(2, 1, 2)\n",
    "    plt.plot(epochs_range[2:], loss[2:], label='Training Loss')\n",
    "    plt.plot(epochs_range[2:], val_loss[2:], label='Validation Loss')\n",
    "    plt.legend(loc='upper right')\n",
    "    plt.title('Training and Validation Loss')\n",
    "    plt.show()"
   ]
  },
  {
   "cell_type": "code",
   "execution_count": 21,
   "id": "confirmed-growing",
   "metadata": {
    "execution": {
     "iopub.execute_input": "2021-05-16T12:32:51.800878Z",
     "iopub.status.busy": "2021-05-16T12:32:51.783663Z",
     "iopub.status.idle": "2021-05-16T12:32:52.100643Z",
     "shell.execute_reply": "2021-05-16T12:32:52.100065Z"
    },
    "papermill": {
     "duration": 2.398004,
     "end_time": "2021-05-16T12:32:52.100807",
     "exception": false,
     "start_time": "2021-05-16T12:32:49.702803",
     "status": "completed"
    },
    "tags": []
   },
   "outputs": [
    {
     "data": {
      "image/png": "[encoded data removed]",
      "text/plain": [
       "<Figure size 576x576 with 2 Axes>"
      ]
     },
     "metadata": {
      "needs_background": "light"
     },
     "output_type": "display_data"
    }
   ],
   "source": [
    "plotMetrics(history)"
   ]
  },
  {
   "cell_type": "code",
   "execution_count": 22,
   "id": "massive-april",
   "metadata": {
    "execution": {
     "iopub.execute_input": "2021-05-16T12:32:56.317501Z",
     "iopub.status.busy": "2021-05-16T12:32:56.316581Z",
     "iopub.status.idle": "2021-05-16T12:33:00.447818Z",
     "shell.execute_reply": "2021-05-16T12:33:00.447228Z"
    },
    "papermill": {
     "duration": 6.203752,
     "end_time": "2021-05-16T12:33:00.447960",
     "exception": false,
     "start_time": "2021-05-16T12:32:54.244208",
     "status": "completed"
    },
    "tags": []
   },
   "outputs": [],
   "source": [
    "# Confusion matrix\n",
    "y_pred = model(x_val) # Predict validation set\n",
    "y_pred_classes = np.argmax(y_pred, axis=1) # Get prediction values as numbers\n",
    "y_val_classes = np.argmax(y_val, axis=1) # Get true values as numbers\n",
    "\n",
    "confusion = confusion_matrix(y_val_classes, y_pred_classes) # Create confusion matrix"
   ]
  },
  {
   "cell_type": "code",
   "execution_count": 23,
   "id": "virgin-tamil",
   "metadata": {
    "execution": {
     "iopub.execute_input": "2021-05-16T12:33:04.704795Z",
     "iopub.status.busy": "2021-05-16T12:33:04.703885Z",
     "iopub.status.idle": "2021-05-16T12:33:05.362353Z",
     "shell.execute_reply": "2021-05-16T12:33:05.363063Z"
    },
    "papermill": {
     "duration": 2.824624,
     "end_time": "2021-05-16T12:33:05.363250",
     "exception": false,
     "start_time": "2021-05-16T12:33:02.538626",
     "status": "completed"
    },
    "tags": []
   },
   "outputs": [
    {
     "data": {
      "image/png": "[encoded data removed]",
      "text/plain": [
       "<Figure size 720x576 with 2 Axes>"
      ]
     },
     "metadata": {
      "needs_background": "light"
     },
     "output_type": "display_data"
    }
   ],
   "source": [
    "# Plot confusion matrix\n",
    "plt.figure(figsize=(10,8))\n",
    "sns.heatmap(confusion, annot=True, linewidths=0.01, cmap='Blues',linecolor='gray', fmt= '.1f')\n",
    "plt.xlabel(\"Predicted Label\")\n",
    "plt.ylabel(\"True Label\")\n",
    "plt.title(\"Confusion Matrix\")\n",
    "plt.show()"
   ]
  },
  {
   "cell_type": "markdown",
   "id": "increasing-clock",
   "metadata": {
    "papermill": {
     "duration": 2.117847,
     "end_time": "2021-05-16T12:33:09.552713",
     "exception": false,
     "start_time": "2021-05-16T12:33:07.434866",
     "status": "completed"
    },
    "tags": []
   },
   "source": [
    "# Submition data"
   ]
  },
  {
   "cell_type": "code",
   "execution_count": 24,
   "id": "persistent-convention",
   "metadata": {
    "execution": {
     "iopub.execute_input": "2021-05-16T12:33:13.775061Z",
     "iopub.status.busy": "2021-05-16T12:33:13.774138Z",
     "iopub.status.idle": "2021-05-16T12:33:22.285755Z",
     "shell.execute_reply": "2021-05-16T12:33:22.286431Z"
    },
    "papermill": {
     "duration": 10.581493,
     "end_time": "2021-05-16T12:33:22.286636",
     "exception": false,
     "start_time": "2021-05-16T12:33:11.705143",
     "status": "completed"
    },
    "tags": []
   },
   "outputs": [],
   "source": [
    "# Predict test data\n",
    "Y_pred = model.predict(X_test)\n",
    "Y_pred = np.argmax(Y_pred, axis=1)"
   ]
  },
  {
   "cell_type": "code",
   "execution_count": 25,
   "id": "precious-morocco",
   "metadata": {
    "execution": {
     "iopub.execute_input": "2021-05-16T12:33:26.553119Z",
     "iopub.status.busy": "2021-05-16T12:33:26.552249Z",
     "iopub.status.idle": "2021-05-16T12:33:26.556387Z",
     "shell.execute_reply": "2021-05-16T12:33:26.555770Z"
    },
    "papermill": {
     "duration": 2.107303,
     "end_time": "2021-05-16T12:33:26.556522",
     "exception": false,
     "start_time": "2021-05-16T12:33:24.449219",
     "status": "completed"
    },
    "tags": []
   },
   "outputs": [
    {
     "data": {
      "text/plain": [
       "array([2, 0, 9, ..., 3, 9, 2])"
      ]
     },
     "execution_count": 25,
     "metadata": {},
     "output_type": "execute_result"
    }
   ],
   "source": [
    "Y_pred"
   ]
  },
  {
   "cell_type": "code",
   "execution_count": 26,
   "id": "capable-expansion",
   "metadata": {
    "execution": {
     "iopub.execute_input": "2021-05-16T12:33:30.776704Z",
     "iopub.status.busy": "2021-05-16T12:33:30.776025Z",
     "iopub.status.idle": "2021-05-16T12:33:30.786389Z",
     "shell.execute_reply": "2021-05-16T12:33:30.785869Z"
    },
    "papermill": {
     "duration": 2.095059,
     "end_time": "2021-05-16T12:33:30.786533",
     "exception": false,
     "start_time": "2021-05-16T12:33:28.691474",
     "status": "completed"
    },
    "tags": []
   },
   "outputs": [
    {
     "data": {
      "text/html": [
       "<div>\n",
       "<style scoped>\n",
       "    .dataframe tbody tr th:only-of-type {\n",
       "        vertical-align: middle;\n",
       "    }\n",
       "\n",
       "    .dataframe tbody tr th {\n",
       "        vertical-align: top;\n",
       "    }\n",
       "\n",
       "    .dataframe thead th {\n",
       "        text-align: right;\n",
       "    }\n",
       "</style>\n",
       "<table border=\"1\" class=\"dataframe\">\n",
       "  <thead>\n",
       "    <tr style=\"text-align: right;\">\n",
       "      <th></th>\n",
       "      <th>ImageId</th>\n",
       "      <th>Label</th>\n",
       "    </tr>\n",
       "  </thead>\n",
       "  <tbody>\n",
       "    <tr>\n",
       "      <th>0</th>\n",
       "      <td>1</td>\n",
       "      <td>2</td>\n",
       "    </tr>\n",
       "    <tr>\n",
       "      <th>1</th>\n",
       "      <td>2</td>\n",
       "      <td>0</td>\n",
       "    </tr>\n",
       "    <tr>\n",
       "      <th>2</th>\n",
       "      <td>3</td>\n",
       "      <td>9</td>\n",
       "    </tr>\n",
       "    <tr>\n",
       "      <th>3</th>\n",
       "      <td>4</td>\n",
       "      <td>0</td>\n",
       "    </tr>\n",
       "    <tr>\n",
       "      <th>4</th>\n",
       "      <td>5</td>\n",
       "      <td>3</td>\n",
       "    </tr>\n",
       "  </tbody>\n",
       "</table>\n",
       "</div>"
      ],
      "text/plain": [
       "   ImageId  Label\n",
       "0        1      2\n",
       "1        2      0\n",
       "2        3      9\n",
       "3        4      0\n",
       "4        5      3"
      ]
     },
     "execution_count": 26,
     "metadata": {},
     "output_type": "execute_result"
    }
   ],
   "source": [
    "# Prepare data for submission\n",
    "submission = pd.DataFrame({'ImageId': range(1, 28001), 'Label': Y_pred})\n",
    "\n",
    "submission.head()"
   ]
  },
  {
   "cell_type": "code",
   "execution_count": 27,
   "id": "floating-jimmy",
   "metadata": {
    "execution": {
     "iopub.execute_input": "2021-05-16T12:33:35.160056Z",
     "iopub.status.busy": "2021-05-16T12:33:35.159334Z",
     "iopub.status.idle": "2021-05-16T12:33:35.216338Z",
     "shell.execute_reply": "2021-05-16T12:33:35.215545Z"
    },
    "papermill": {
     "duration": 2.267945,
     "end_time": "2021-05-16T12:33:35.216506",
     "exception": false,
     "start_time": "2021-05-16T12:33:32.948561",
     "status": "completed"
    },
    "tags": []
   },
   "outputs": [],
   "source": [
    "# Save data\n",
    "submission.to_csv('submission.csv', index=False)"
   ]
  },
  {
   "cell_type": "code",
   "execution_count": null,
   "id": "working-disease",
   "metadata": {
    "papermill": {
     "duration": 2.080817,
     "end_time": "2021-05-16T12:33:39.386447",
     "exception": false,
     "start_time": "2021-05-16T12:33:37.305630",
     "status": "completed"
    },
    "tags": []
   },
   "outputs": [],
   "source": []
  }
 ],
 "metadata": {
  "kernelspec": {
   "display_name": "Python 3",
   "language": "python",
   "name": "python3"
  },
  "language_info": {
   "codemirror_mode": {
    "name": "ipython",
    "version": 3
   },
   "file_extension": ".py",
   "mimetype": "text/x-python",
   "name": "python",
   "nbconvert_exporter": "python",
   "pygments_lexer": "ipython3",
   "version": "3.7.10"
  },
  "papermill": {
   "default_parameters": {},
   "duration": 1297.247385,
   "end_time": "2021-05-16T12:33:43.251147",
   "environment_variables": {},
   "exception": null,
   "input_path": "__notebook__.ipynb",
   "output_path": "__notebook__.ipynb",
   "parameters": {},
   "start_time": "2021-05-16T12:12:06.003762",
   "version": "2.3.3"
  }
 },
 "nbformat": 4,
 "nbformat_minor": 5
}
